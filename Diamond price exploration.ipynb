{
 "cells": [
  {
   "cell_type": "code",
   "execution_count": 202,
   "metadata": {},
   "outputs": [
    {
     "data": {
      "text/html": [
       "<div>\n",
       "<style scoped>\n",
       "    .dataframe tbody tr th:only-of-type {\n",
       "        vertical-align: middle;\n",
       "    }\n",
       "\n",
       "    .dataframe tbody tr th {\n",
       "        vertical-align: top;\n",
       "    }\n",
       "\n",
       "    .dataframe thead th {\n",
       "        text-align: right;\n",
       "    }\n",
       "</style>\n",
       "<table border=\"1\" class=\"dataframe\">\n",
       "  <thead>\n",
       "    <tr style=\"text-align: right;\">\n",
       "      <th></th>\n",
       "      <th>carat</th>\n",
       "      <th>cut</th>\n",
       "      <th>color</th>\n",
       "      <th>clarity</th>\n",
       "      <th>depth percentage</th>\n",
       "      <th>table</th>\n",
       "      <th>price</th>\n",
       "      <th>length</th>\n",
       "      <th>width</th>\n",
       "      <th>depth</th>\n",
       "    </tr>\n",
       "  </thead>\n",
       "  <tbody>\n",
       "    <tr>\n",
       "      <th>0</th>\n",
       "      <td>0.23</td>\n",
       "      <td>Ideal</td>\n",
       "      <td>E</td>\n",
       "      <td>SI2</td>\n",
       "      <td>61.5</td>\n",
       "      <td>55.0</td>\n",
       "      <td>326</td>\n",
       "      <td>3.95</td>\n",
       "      <td>3.98</td>\n",
       "      <td>2.43</td>\n",
       "    </tr>\n",
       "    <tr>\n",
       "      <th>1</th>\n",
       "      <td>0.21</td>\n",
       "      <td>Premium</td>\n",
       "      <td>E</td>\n",
       "      <td>SI1</td>\n",
       "      <td>59.8</td>\n",
       "      <td>61.0</td>\n",
       "      <td>326</td>\n",
       "      <td>3.89</td>\n",
       "      <td>3.84</td>\n",
       "      <td>2.31</td>\n",
       "    </tr>\n",
       "    <tr>\n",
       "      <th>2</th>\n",
       "      <td>0.23</td>\n",
       "      <td>Good</td>\n",
       "      <td>E</td>\n",
       "      <td>VS1</td>\n",
       "      <td>56.9</td>\n",
       "      <td>65.0</td>\n",
       "      <td>327</td>\n",
       "      <td>4.05</td>\n",
       "      <td>4.07</td>\n",
       "      <td>2.31</td>\n",
       "    </tr>\n",
       "    <tr>\n",
       "      <th>3</th>\n",
       "      <td>0.29</td>\n",
       "      <td>Premium</td>\n",
       "      <td>I</td>\n",
       "      <td>VS2</td>\n",
       "      <td>62.4</td>\n",
       "      <td>58.0</td>\n",
       "      <td>334</td>\n",
       "      <td>4.20</td>\n",
       "      <td>4.23</td>\n",
       "      <td>2.63</td>\n",
       "    </tr>\n",
       "    <tr>\n",
       "      <th>4</th>\n",
       "      <td>0.31</td>\n",
       "      <td>Good</td>\n",
       "      <td>J</td>\n",
       "      <td>SI2</td>\n",
       "      <td>63.3</td>\n",
       "      <td>58.0</td>\n",
       "      <td>335</td>\n",
       "      <td>4.34</td>\n",
       "      <td>4.35</td>\n",
       "      <td>2.75</td>\n",
       "    </tr>\n",
       "  </tbody>\n",
       "</table>\n",
       "</div>"
      ],
      "text/plain": [
       "   carat      cut color clarity  depth percentage  table  price  length  \\\n",
       "0   0.23    Ideal     E     SI2              61.5   55.0    326    3.95   \n",
       "1   0.21  Premium     E     SI1              59.8   61.0    326    3.89   \n",
       "2   0.23     Good     E     VS1              56.9   65.0    327    4.05   \n",
       "3   0.29  Premium     I     VS2              62.4   58.0    334    4.20   \n",
       "4   0.31     Good     J     SI2              63.3   58.0    335    4.34   \n",
       "\n",
       "   width  depth  \n",
       "0   3.98   2.43  \n",
       "1   3.84   2.31  \n",
       "2   4.07   2.31  \n",
       "3   4.23   2.63  \n",
       "4   4.35   2.75  "
      ]
     },
     "execution_count": 202,
     "metadata": {},
     "output_type": "execute_result"
    }
   ],
   "source": [
    "import numpy as np\n",
    "import pandas as pd\n",
    "import matplotlib.pyplot as plt\n",
    "import statistics as st\n",
    "\n",
    "%matplotlib inline\n",
    "\n",
    "#import the data. (source:Kaggle)\n",
    "df = pd.read_csv('diamonds.csv')\n",
    "\n",
    "#drop 'unnamed: 0' column as it is a redundant index column\n",
    "df = df.drop(['Unnamed: 0'], axis=1)\n",
    "\n",
    "df = df[df['x'] != 0]\n",
    "df = df[df['y'] != 0]\n",
    "df = df[df['z'] != 0]\n",
    "\n",
    "#optional: combine size measurements to a single feature\n",
    "#df['size'] = df['x'] * df['y'] * df['z']\n",
    "#df = df.drop(['x' , 'y', 'z'], axis=1)\n",
    "#delete row with size of 0\n",
    "\n",
    "#optional: renaming some column names to make them more clear (x = length of the diamond etc.)\n",
    "df = df.rename(columns={'depth':'depth percentage', 'x':'length', 'y':'width', 'z':'depth'})\n",
    "\n",
    "#optional: density parameter\n",
    "#df['density'] = (df['carat'] * 200) / df['size']\n",
    "#df = df.drop(['size'], axis=1)\n",
    "\n",
    "#show the first 5 rows of the dataset\n",
    "df.head()"
   ]
  },
  {
   "cell_type": "code",
   "execution_count": 203,
   "metadata": {},
   "outputs": [
    {
     "name": "stdout",
     "output_type": "stream",
     "text": [
      "shape of dataset (rows/columns)\n",
      "(53920, 10)\n",
      "\n",
      "number of missing values\n",
      "carat               0\n",
      "cut                 0\n",
      "color               0\n",
      "clarity             0\n",
      "depth percentage    0\n",
      "table               0\n",
      "price               0\n",
      "length              0\n",
      "width               0\n",
      "depth               0\n",
      "dtype: int64\n",
      "\n",
      "              carat  depth percentage         table         price  \\\n",
      "count  53920.000000      53920.000000  53920.000000  53920.000000   \n",
      "mean       0.797698         61.749514     57.456834   3930.993231   \n",
      "std        0.473795          1.432331      2.234064   3987.280446   \n",
      "min        0.200000         43.000000     43.000000    326.000000   \n",
      "25%        0.400000         61.000000     56.000000    949.000000   \n",
      "50%        0.700000         61.800000     57.000000   2401.000000   \n",
      "75%        1.040000         62.500000     59.000000   5323.250000   \n",
      "max        5.010000         79.000000     95.000000  18823.000000   \n",
      "\n",
      "             length         width         depth  \n",
      "count  53920.000000  53920.000000  53920.000000  \n",
      "mean       5.731627      5.734887      3.540046  \n",
      "std        1.119423      1.140126      0.702530  \n",
      "min        3.730000      3.680000      1.070000  \n",
      "25%        4.710000      4.720000      2.910000  \n",
      "50%        5.700000      5.710000      3.530000  \n",
      "75%        6.540000      6.540000      4.040000  \n",
      "max       10.740000     58.900000     31.800000  \n",
      "\n"
     ]
    },
    {
     "data": {
      "image/png": "[encoded data removed]",
      "text/plain": [
       "<Figure size 432x288 with 2 Axes>"
      ]
     },
     "metadata": {
      "needs_background": "light"
     },
     "output_type": "display_data"
    }
   ],
   "source": [
    "import seaborn as sns\n",
    "\n",
    "#basic descriptive stats\n",
    "\n",
    "#shape of the dataset - (rows, columns)\n",
    "print('shape of dataset (rows/columns)\\n', df.shape, sep=\"\", end='\\n' * 2)\n",
    "\n",
    "#show the amount of missing values per column\n",
    "print('number of missing values\\n', df.isnull().sum(), sep=\"\", end='\\n' * 2)\n",
    "\n",
    "print(df.describe(), end='\\n' * 2)\n",
    "\n",
    "#create a heatmap with the correlations matrix of the numerical features\n",
    "sns.heatmap(df.corr(), annot=True, cmap='RdYlGn', vmin=-1, vmax=1)\n",
    "plt.show()"
   ]
  },
  {
   "cell_type": "code",
   "execution_count": 204,
   "metadata": {},
   "outputs": [],
   "source": [
    "def distribution_graph(data, bins, xlabel):\n",
    "    '''plots the distribution of data for a given vector\n",
    "    \n",
    "    input:  data: the vector (column of a df) to be plotted\n",
    "            bins: the amount of bins (bars) over which the data will be distributed\n",
    "            xlabel: the string label for the x-axis\n",
    "    output: plot of the distribution for the given vector/column'''\n",
    "\n",
    "    plt.hist(df[data], bins=bins, color = \"black\")\n",
    "    plt.xlabel(xlabel)\n",
    "    plt.ylabel('Number of observations')\n",
    "    plt.show()"
   ]
  },
  {
   "cell_type": "code",
   "execution_count": 205,
   "metadata": {
    "scrolled": true
   },
   "outputs": [
    {
     "data": {
      "image/png": "[encoded data removed]",
      "text/plain": [
       "<Figure size 432x288 with 1 Axes>"
      ]
     },
     "metadata": {
      "needs_background": "light"
     },
     "output_type": "display_data"
    }
   ],
   "source": [
    "distribution_graph('carat', 20, 'Carat (ct) weight (1 ct = 200 mg)')"
   ]
  },
  {
   "cell_type": "code",
   "execution_count": 206,
   "metadata": {
    "scrolled": false
   },
   "outputs": [
    {
     "data": {
      "image/png": "[encoded data removed]",
      "text/plain": [
       "<Figure size 432x288 with 1 Axes>"
      ]
     },
     "metadata": {
      "needs_background": "light"
     },
     "output_type": "display_data"
    },
    {
     "data": {
      "image/png": "[encoded data removed]",
      "text/plain": [
       "<Figure size 432x288 with 1 Axes>"
      ]
     },
     "metadata": {
      "needs_background": "light"
     },
     "output_type": "display_data"
    },
    {
     "data": {
      "image/png": "[encoded data removed]",
      "text/plain": [
       "<Figure size 432x288 with 1 Axes>"
      ]
     },
     "metadata": {
      "needs_background": "light"
     },
     "output_type": "display_data"
    },
    {
     "data": {
      "image/png": "[encoded data removed]",
      "text/plain": [
       "<Figure size 432x288 with 1 Axes>"
      ]
     },
     "metadata": {
      "needs_background": "light"
     },
     "output_type": "display_data"
    },
    {
     "data": {
      "image/png": "[encoded data removed]",
      "text/plain": [
       "<Figure size 432x288 with 1 Axes>"
      ]
     },
     "metadata": {
      "needs_background": "light"
     },
     "output_type": "display_data"
    },
    {
     "data": {
      "image/png": "[encoded data removed]",
      "text/plain": [
       "<Figure size 432x288 with 1 Axes>"
      ]
     },
     "metadata": {
      "needs_background": "light"
     },
     "output_type": "display_data"
    },
    {
     "data": {
      "image/png": "[encoded data removed]",
      "text/plain": [
       "<Figure size 432x288 with 1 Axes>"
      ]
     },
     "metadata": {
      "needs_background": "light"
     },
     "output_type": "display_data"
    },
    {
     "data": {
      "image/png": "[encoded data removed]",
      "text/plain": [
       "<Figure size 432x288 with 1 Axes>"
      ]
     },
     "metadata": {
      "needs_background": "light"
     },
     "output_type": "display_data"
    },
    {
     "data": {
      "image/png": "[encoded data removed]",
      "text/plain": [
       "<Figure size 432x288 with 1 Axes>"
      ]
     },
     "metadata": {
      "needs_background": "light"
     },
     "output_type": "display_data"
    },
    {
     "data": {
      "image/png": "[encoded data removed]",
      "text/plain": [
       "<Figure size 432x288 with 1 Axes>"
      ]
     },
     "metadata": {
      "needs_background": "light"
     },
     "output_type": "display_data"
    }
   ],
   "source": [
    "column_list = list(df.columns)\n",
    "for f in column_list:\n",
    "    distribution_graph(f, 20, f)"
   ]
  },
  {
   "cell_type": "code",
   "execution_count": 207,
   "metadata": {},
   "outputs": [
    {
     "data": {
      "text/html": [
       "<div>\n",
       "<style scoped>\n",
       "    .dataframe tbody tr th:only-of-type {\n",
       "        vertical-align: middle;\n",
       "    }\n",
       "\n",
       "    .dataframe tbody tr th {\n",
       "        vertical-align: top;\n",
       "    }\n",
       "\n",
       "    .dataframe thead th {\n",
       "        text-align: right;\n",
       "    }\n",
       "</style>\n",
       "<table border=\"1\" class=\"dataframe\">\n",
       "  <thead>\n",
       "    <tr style=\"text-align: right;\">\n",
       "      <th></th>\n",
       "      <th>carat</th>\n",
       "      <th>depth percentage</th>\n",
       "      <th>table</th>\n",
       "      <th>length</th>\n",
       "      <th>width</th>\n",
       "      <th>depth</th>\n",
       "      <th>cut_Fair</th>\n",
       "      <th>cut_Good</th>\n",
       "      <th>cut_Ideal</th>\n",
       "      <th>cut_Premium</th>\n",
       "      <th>...</th>\n",
       "      <th>color_I</th>\n",
       "      <th>color_J</th>\n",
       "      <th>clarity_I1</th>\n",
       "      <th>clarity_IF</th>\n",
       "      <th>clarity_SI1</th>\n",
       "      <th>clarity_SI2</th>\n",
       "      <th>clarity_VS1</th>\n",
       "      <th>clarity_VS2</th>\n",
       "      <th>clarity_VVS1</th>\n",
       "      <th>clarity_VVS2</th>\n",
       "    </tr>\n",
       "  </thead>\n",
       "  <tbody>\n",
       "    <tr>\n",
       "      <th>0</th>\n",
       "      <td>-1.198193</td>\n",
       "      <td>-0.174201</td>\n",
       "      <td>-1.099715</td>\n",
       "      <td>-1.591558</td>\n",
       "      <td>-1.539205</td>\n",
       "      <td>-1.580069</td>\n",
       "      <td>0</td>\n",
       "      <td>0</td>\n",
       "      <td>1</td>\n",
       "      <td>0</td>\n",
       "      <td>...</td>\n",
       "      <td>0</td>\n",
       "      <td>0</td>\n",
       "      <td>0</td>\n",
       "      <td>0</td>\n",
       "      <td>0</td>\n",
       "      <td>1</td>\n",
       "      <td>0</td>\n",
       "      <td>0</td>\n",
       "      <td>0</td>\n",
       "      <td>0</td>\n",
       "    </tr>\n",
       "    <tr>\n",
       "      <th>1</th>\n",
       "      <td>-1.240405</td>\n",
       "      <td>-1.361078</td>\n",
       "      <td>1.585973</td>\n",
       "      <td>-1.645157</td>\n",
       "      <td>-1.661998</td>\n",
       "      <td>-1.750880</td>\n",
       "      <td>0</td>\n",
       "      <td>0</td>\n",
       "      <td>0</td>\n",
       "      <td>1</td>\n",
       "      <td>...</td>\n",
       "      <td>0</td>\n",
       "      <td>0</td>\n",
       "      <td>0</td>\n",
       "      <td>0</td>\n",
       "      <td>1</td>\n",
       "      <td>0</td>\n",
       "      <td>0</td>\n",
       "      <td>0</td>\n",
       "      <td>0</td>\n",
       "      <td>0</td>\n",
       "    </tr>\n",
       "    <tr>\n",
       "      <th>2</th>\n",
       "      <td>-1.198193</td>\n",
       "      <td>-3.385749</td>\n",
       "      <td>3.376432</td>\n",
       "      <td>-1.502227</td>\n",
       "      <td>-1.460266</td>\n",
       "      <td>-1.750880</td>\n",
       "      <td>0</td>\n",
       "      <td>1</td>\n",
       "      <td>0</td>\n",
       "      <td>0</td>\n",
       "      <td>...</td>\n",
       "      <td>0</td>\n",
       "      <td>0</td>\n",
       "      <td>0</td>\n",
       "      <td>0</td>\n",
       "      <td>0</td>\n",
       "      <td>0</td>\n",
       "      <td>1</td>\n",
       "      <td>0</td>\n",
       "      <td>0</td>\n",
       "      <td>0</td>\n",
       "    </tr>\n",
       "    <tr>\n",
       "      <th>3</th>\n",
       "      <td>-1.071556</td>\n",
       "      <td>0.454145</td>\n",
       "      <td>0.243129</td>\n",
       "      <td>-1.368229</td>\n",
       "      <td>-1.319931</td>\n",
       "      <td>-1.295384</td>\n",
       "      <td>0</td>\n",
       "      <td>0</td>\n",
       "      <td>0</td>\n",
       "      <td>1</td>\n",
       "      <td>...</td>\n",
       "      <td>1</td>\n",
       "      <td>0</td>\n",
       "      <td>0</td>\n",
       "      <td>0</td>\n",
       "      <td>0</td>\n",
       "      <td>0</td>\n",
       "      <td>0</td>\n",
       "      <td>1</td>\n",
       "      <td>0</td>\n",
       "      <td>0</td>\n",
       "    </tr>\n",
       "    <tr>\n",
       "      <th>4</th>\n",
       "      <td>-1.029344</td>\n",
       "      <td>1.082491</td>\n",
       "      <td>0.243129</td>\n",
       "      <td>-1.243165</td>\n",
       "      <td>-1.214679</td>\n",
       "      <td>-1.124573</td>\n",
       "      <td>0</td>\n",
       "      <td>1</td>\n",
       "      <td>0</td>\n",
       "      <td>0</td>\n",
       "      <td>...</td>\n",
       "      <td>0</td>\n",
       "      <td>1</td>\n",
       "      <td>0</td>\n",
       "      <td>0</td>\n",
       "      <td>0</td>\n",
       "      <td>1</td>\n",
       "      <td>0</td>\n",
       "      <td>0</td>\n",
       "      <td>0</td>\n",
       "      <td>0</td>\n",
       "    </tr>\n",
       "  </tbody>\n",
       "</table>\n",
       "<p>5 rows × 26 columns</p>\n",
       "</div>"
      ],
      "text/plain": [
       "      carat  depth percentage     table    length     width     depth  \\\n",
       "0 -1.198193         -0.174201 -1.099715 -1.591558 -1.539205 -1.580069   \n",
       "1 -1.240405         -1.361078  1.585973 -1.645157 -1.661998 -1.750880   \n",
       "2 -1.198193         -3.385749  3.376432 -1.502227 -1.460266 -1.750880   \n",
       "3 -1.071556          0.454145  0.243129 -1.368229 -1.319931 -1.295384   \n",
       "4 -1.029344          1.082491  0.243129 -1.243165 -1.214679 -1.124573   \n",
       "\n",
       "   cut_Fair  cut_Good  cut_Ideal  cut_Premium  ...  color_I  color_J  \\\n",
       "0         0         0          1            0  ...        0        0   \n",
       "1         0         0          0            1  ...        0        0   \n",
       "2         0         1          0            0  ...        0        0   \n",
       "3         0         0          0            1  ...        1        0   \n",
       "4         0         1          0            0  ...        0        1   \n",
       "\n",
       "   clarity_I1  clarity_IF  clarity_SI1  clarity_SI2  clarity_VS1  clarity_VS2  \\\n",
       "0           0           0            0            1            0            0   \n",
       "1           0           0            1            0            0            0   \n",
       "2           0           0            0            0            1            0   \n",
       "3           0           0            0            0            0            1   \n",
       "4           0           0            0            1            0            0   \n",
       "\n",
       "   clarity_VVS1  clarity_VVS2  \n",
       "0             0             0  \n",
       "1             0             0  \n",
       "2             0             0  \n",
       "3             0             0  \n",
       "4             0             0  \n",
       "\n",
       "[5 rows x 26 columns]"
      ]
     },
     "execution_count": 207,
     "metadata": {},
     "output_type": "execute_result"
    }
   ],
   "source": [
    "#create the matrix X with the model features and y vector with the dependant variable 'price'\n",
    "X = df.drop('price', axis=1)\n",
    "y = df['price']\n",
    "\n",
    "#normalize numerical features (x - mean) / st dev\n",
    "num_cols = X.select_dtypes(['number']).columns\n",
    "num_col_mean = {}\n",
    "num_col_stdev = {}\n",
    "\n",
    "for col in num_cols:\n",
    "    num_col_mean[col] = X[col].mean()\n",
    "    num_col_stdev[col] = st.stdev(X[col])\n",
    "    X[col] = (X[col] - num_col_mean[col]) / num_col_stdev[col]\n",
    "\n",
    "#create dummy variables for categorical features\n",
    "cat_cols = X.select_dtypes(['object']).columns\n",
    "\n",
    "for col in cat_cols:\n",
    "    X = pd.concat([X.drop(col, axis=1), pd.get_dummies(X[col], prefix=col, prefix_sep=\"_\")], axis = 1)\n",
    "\n",
    "X.head()"
   ]
  },
  {
   "cell_type": "code",
   "execution_count": 208,
   "metadata": {},
   "outputs": [
    {
     "name": "stdout",
     "output_type": "stream",
     "text": [
      "Average error: 2113.89 dollar\n"
     ]
    }
   ],
   "source": [
    "'''\n",
    "set a baseline prediction based on the average price per range of carats (obviously not a great prediction method)\n",
    "the decimals of the (r + 1.02) statement are there to make sure the diamond with the highest carat (5.01) is included\n",
    "'''\n",
    "\n",
    "baseline_pred = []\n",
    "error = []\n",
    "\n",
    "for r in range(5):\n",
    "    baseline_pred.append(df[(df['carat'] >= r) & (df['carat'] < (r+1.02))]['price'].mean())\n",
    "    error.append(np.mean(abs(df[(df['carat'] >= r) & (df['carat'] < (r+1.02))]['price'] - baseline_pred[r])))\n",
    "\n",
    "baseline_error = np.mean(error)\n",
    "print(\"Average error:\", round(baseline_error,2), \"dollar\")"
   ]
  },
  {
   "cell_type": "code",
   "execution_count": 209,
   "metadata": {},
   "outputs": [
    {
     "data": {
      "text/html": [
       "<div>\n",
       "<style scoped>\n",
       "    .dataframe tbody tr th:only-of-type {\n",
       "        vertical-align: middle;\n",
       "    }\n",
       "\n",
       "    .dataframe tbody tr th {\n",
       "        vertical-align: top;\n",
       "    }\n",
       "\n",
       "    .dataframe thead th {\n",
       "        text-align: right;\n",
       "    }\n",
       "</style>\n",
       "<table border=\"1\" class=\"dataframe\">\n",
       "  <thead>\n",
       "    <tr style=\"text-align: right;\">\n",
       "      <th></th>\n",
       "      <th>feature</th>\n",
       "      <th>coefficient</th>\n",
       "      <th>absolute coef</th>\n",
       "    </tr>\n",
       "  </thead>\n",
       "  <tbody>\n",
       "    <tr>\n",
       "      <th>0</th>\n",
       "      <td>carat</td>\n",
       "      <td>5438.782216</td>\n",
       "      <td>5438.782216</td>\n",
       "    </tr>\n",
       "    <tr>\n",
       "      <th>1</th>\n",
       "      <td>clarity_IF</td>\n",
       "      <td>1543.704421</td>\n",
       "      <td>1543.704421</td>\n",
       "    </tr>\n",
       "    <tr>\n",
       "      <th>2</th>\n",
       "      <td>clarity_VVS2</td>\n",
       "      <td>1185.515985</td>\n",
       "      <td>1185.515985</td>\n",
       "    </tr>\n",
       "    <tr>\n",
       "      <th>3</th>\n",
       "      <td>clarity_VVS1</td>\n",
       "      <td>1149.641882</td>\n",
       "      <td>1149.641882</td>\n",
       "    </tr>\n",
       "    <tr>\n",
       "      <th>4</th>\n",
       "      <td>color_D</td>\n",
       "      <td>831.329854</td>\n",
       "      <td>831.329854</td>\n",
       "    </tr>\n",
       "    <tr>\n",
       "      <th>5</th>\n",
       "      <td>clarity_VS1</td>\n",
       "      <td>790.834723</td>\n",
       "      <td>790.834723</td>\n",
       "    </tr>\n",
       "    <tr>\n",
       "      <th>6</th>\n",
       "      <td>color_E</td>\n",
       "      <td>621.444975</td>\n",
       "      <td>621.444975</td>\n",
       "    </tr>\n",
       "    <tr>\n",
       "      <th>7</th>\n",
       "      <td>color_F</td>\n",
       "      <td>562.540793</td>\n",
       "      <td>562.540793</td>\n",
       "    </tr>\n",
       "    <tr>\n",
       "      <th>8</th>\n",
       "      <td>clarity_VS2</td>\n",
       "      <td>456.618591</td>\n",
       "      <td>456.618591</td>\n",
       "    </tr>\n",
       "    <tr>\n",
       "      <th>9</th>\n",
       "      <td>color_G</td>\n",
       "      <td>352.642562</td>\n",
       "      <td>352.642562</td>\n",
       "    </tr>\n",
       "    <tr>\n",
       "      <th>10</th>\n",
       "      <td>cut_Ideal</td>\n",
       "      <td>268.373098</td>\n",
       "      <td>268.373098</td>\n",
       "    </tr>\n",
       "    <tr>\n",
       "      <th>11</th>\n",
       "      <td>cut_Premium</td>\n",
       "      <td>181.855809</td>\n",
       "      <td>181.855809</td>\n",
       "    </tr>\n",
       "    <tr>\n",
       "      <th>12</th>\n",
       "      <td>cut_Very Good</td>\n",
       "      <td>167.183860</td>\n",
       "      <td>167.183860</td>\n",
       "    </tr>\n",
       "    <tr>\n",
       "      <th>13</th>\n",
       "      <td>cut_Good</td>\n",
       "      <td>9.900204</td>\n",
       "      <td>9.900204</td>\n",
       "    </tr>\n",
       "    <tr>\n",
       "      <th>14</th>\n",
       "      <td>width</td>\n",
       "      <td>-6.344732</td>\n",
       "      <td>6.344732</td>\n",
       "    </tr>\n",
       "    <tr>\n",
       "      <th>15</th>\n",
       "      <td>depth</td>\n",
       "      <td>-34.383776</td>\n",
       "      <td>34.383776</td>\n",
       "    </tr>\n",
       "    <tr>\n",
       "      <th>16</th>\n",
       "      <td>table</td>\n",
       "      <td>-51.138179</td>\n",
       "      <td>51.138179</td>\n",
       "    </tr>\n",
       "    <tr>\n",
       "      <th>17</th>\n",
       "      <td>depth percentage</td>\n",
       "      <td>-114.436061</td>\n",
       "      <td>114.436061</td>\n",
       "    </tr>\n",
       "    <tr>\n",
       "      <th>18</th>\n",
       "      <td>clarity_SI1</td>\n",
       "      <td>-139.780018</td>\n",
       "      <td>139.780018</td>\n",
       "    </tr>\n",
       "    <tr>\n",
       "      <th>19</th>\n",
       "      <td>color_H</td>\n",
       "      <td>-165.094833</td>\n",
       "      <td>165.094833</td>\n",
       "    </tr>\n",
       "    <tr>\n",
       "      <th>20</th>\n",
       "      <td>color_I</td>\n",
       "      <td>-605.901821</td>\n",
       "      <td>605.901821</td>\n",
       "    </tr>\n",
       "    <tr>\n",
       "      <th>21</th>\n",
       "      <td>cut_Fair</td>\n",
       "      <td>-627.312971</td>\n",
       "      <td>627.312971</td>\n",
       "    </tr>\n",
       "    <tr>\n",
       "      <th>22</th>\n",
       "      <td>clarity_SI2</td>\n",
       "      <td>-1104.338383</td>\n",
       "      <td>1104.338383</td>\n",
       "    </tr>\n",
       "    <tr>\n",
       "      <th>23</th>\n",
       "      <td>length</td>\n",
       "      <td>-1219.581284</td>\n",
       "      <td>1219.581284</td>\n",
       "    </tr>\n",
       "    <tr>\n",
       "      <th>24</th>\n",
       "      <td>color_J</td>\n",
       "      <td>-1596.961529</td>\n",
       "      <td>1596.961529</td>\n",
       "    </tr>\n",
       "    <tr>\n",
       "      <th>25</th>\n",
       "      <td>clarity_I1</td>\n",
       "      <td>-3882.197201</td>\n",
       "      <td>3882.197201</td>\n",
       "    </tr>\n",
       "    <tr>\n",
       "      <th>26</th>\n",
       "      <td>Intercept</td>\n",
       "      <td>3332.613947</td>\n",
       "      <td>3332.613947</td>\n",
       "    </tr>\n",
       "  </tbody>\n",
       "</table>\n",
       "</div>"
      ],
      "text/plain": [
       "             feature  coefficient  absolute coef\n",
       "0              carat  5438.782216    5438.782216\n",
       "1         clarity_IF  1543.704421    1543.704421\n",
       "2       clarity_VVS2  1185.515985    1185.515985\n",
       "3       clarity_VVS1  1149.641882    1149.641882\n",
       "4            color_D   831.329854     831.329854\n",
       "5        clarity_VS1   790.834723     790.834723\n",
       "6            color_E   621.444975     621.444975\n",
       "7            color_F   562.540793     562.540793\n",
       "8        clarity_VS2   456.618591     456.618591\n",
       "9            color_G   352.642562     352.642562\n",
       "10         cut_Ideal   268.373098     268.373098\n",
       "11       cut_Premium   181.855809     181.855809\n",
       "12     cut_Very Good   167.183860     167.183860\n",
       "13          cut_Good     9.900204       9.900204\n",
       "14             width    -6.344732       6.344732\n",
       "15             depth   -34.383776      34.383776\n",
       "16             table   -51.138179      51.138179\n",
       "17  depth percentage  -114.436061     114.436061\n",
       "18       clarity_SI1  -139.780018     139.780018\n",
       "19           color_H  -165.094833     165.094833\n",
       "20           color_I  -605.901821     605.901821\n",
       "21          cut_Fair  -627.312971     627.312971\n",
       "22       clarity_SI2 -1104.338383    1104.338383\n",
       "23            length -1219.581284    1219.581284\n",
       "24           color_J -1596.961529    1596.961529\n",
       "25        clarity_I1 -3882.197201    3882.197201\n",
       "26         Intercept  3332.613947    3332.613947"
      ]
     },
     "execution_count": 209,
     "metadata": {},
     "output_type": "execute_result"
    }
   ],
   "source": [
    "#Linear Regression Model\n",
    "\n",
    "from sklearn.linear_model import LinearRegression\n",
    "from sklearn.model_selection import train_test_split\n",
    "from sklearn.metrics import r2_score\n",
    "\n",
    "#instantiate linear model\n",
    "lm = LinearRegression()\n",
    "\n",
    "#create train and test sets of the data\n",
    "X_train, X_test, y_train, y_test = train_test_split(X, y, train_size = 0.3, random_state=38)\n",
    "\n",
    "#fit the model to the training set\n",
    "lm.fit(X_train, y_train)\n",
    "\n",
    "#predict using the test set and training set\n",
    "pred_test = lm.predict(X_test)\n",
    "pred_train = lm.predict(X_train)\n",
    "\n",
    "#score the two predictions above\n",
    "score_test = r2_score(y_test, pred_test)\n",
    "score_train = r2_score(y_train, pred_train)\n",
    "\n",
    "#create a new table with coefficiencts found by the model\n",
    "coefs = pd.DataFrame()\n",
    "coefs['feature'] = X.columns\n",
    "coefs['coefficient'] = lm.coef_\n",
    "coefs['absolute coef'] = np.abs(lm.coef_)\n",
    "\n",
    "#sort the coefficients from large to small and add an extra row with the intercept (not sorted)\n",
    "coefs = coefs.sort_values('coefficient', ascending=False)\n",
    "coefs = coefs.append({'feature':'Intercept', 'coefficient':lm.intercept_, \\\n",
    "                      'absolute coef':np.abs(lm.intercept_)}, ignore_index=True)\n",
    "\n",
    "coefs"
   ]
  },
  {
   "cell_type": "code",
   "execution_count": 210,
   "metadata": {
    "scrolled": true
   },
   "outputs": [
    {
     "name": "stdout",
     "output_type": "stream",
     "text": [
      "Average error: 739 dollar\n",
      "R2-score of the model on the test data: 0.92\n"
     ]
    }
   ],
   "source": [
    "lm_error = np.mean(abs(pred_test - y_test))\n",
    "\n",
    "print(\"Average error:\", int(lm_error), \"dollar\")\n",
    "print(\"R2-score of the model on the test data:\", round(score_test,3))"
   ]
  },
  {
   "cell_type": "code",
   "execution_count": 211,
   "metadata": {
    "scrolled": true
   },
   "outputs": [
    {
     "name": "stdout",
     "output_type": "stream",
     "text": [
      "Average error: 292 dollar\n",
      "R2-score of the model on the test data: 0.979\n"
     ]
    }
   ],
   "source": [
    "#Random Forest Regression Model\n",
    "\n",
    "from sklearn.ensemble import RandomForestRegressor\n",
    "\n",
    "#instantiate the Random Forest regressor\n",
    "rf = RandomForestRegressor(n_estimators = 1000, random_state = 42)\n",
    "\n",
    "#fit the model to the training set\n",
    "rf.fit(X_train, y_train)\n",
    "\n",
    "#predict using the test set\n",
    "rf_preds = rf.predict(X_test)\n",
    "\n",
    "#score the prediction\n",
    "rf_r2_score= r2_score(y_test, rf_preds)\n",
    "\n",
    "#calculate average error between prediction and known y-value\n",
    "rf_error = np.mean(abs(rf_preds - y_test))\n",
    "\n",
    "#print results\n",
    "print(\"Average error:\", int(rf_error), \"dollar\")\n",
    "print(\"R2-score of the model on the test data:\", round(rf_r2_score,3))"
   ]
  },
  {
   "cell_type": "code",
   "execution_count": 212,
   "metadata": {},
   "outputs": [
    {
     "data": {
      "text/plain": [
       "[('carat', 0.57),\n",
       " ('width', 0.31),\n",
       " ('clarity_SI2', 0.02),\n",
       " ('length', 0.01),\n",
       " ('depth', 0.01),\n",
       " ('color_H', 0.01),\n",
       " ('color_I', 0.01),\n",
       " ('color_J', 0.01),\n",
       " ('clarity_I1', 0.01),\n",
       " ('clarity_SI1', 0.01),\n",
       " ('clarity_VVS2', 0.01),\n",
       " ('depth percentage', 0.0),\n",
       " ('table', 0.0),\n",
       " ('cut_Fair', 0.0),\n",
       " ('cut_Good', 0.0),\n",
       " ('cut_Ideal', 0.0),\n",
       " ('cut_Premium', 0.0),\n",
       " ('cut_Very Good', 0.0),\n",
       " ('color_D', 0.0),\n",
       " ('color_E', 0.0),\n",
       " ('color_F', 0.0),\n",
       " ('color_G', 0.0),\n",
       " ('clarity_IF', 0.0),\n",
       " ('clarity_VS1', 0.0),\n",
       " ('clarity_VS2', 0.0),\n",
       " ('clarity_VVS1', 0.0)]"
      ]
     },
     "execution_count": 212,
     "metadata": {},
     "output_type": "execute_result"
    }
   ],
   "source": [
    "#get the importance of features according to the random forest regression\n",
    "importance = list(rf.feature_importances_.round(2))\n",
    "\n",
    "features = list(X.columns)\n",
    "importance_list = [(feature, importance) for feature, importance in zip(features, importance)]\n",
    "\n",
    "importance_list.sort(key=lambda x: x[1], reverse=True)\n",
    "\n",
    "importance_list"
   ]
  },
  {
   "cell_type": "code",
   "execution_count": 213,
   "metadata": {},
   "outputs": [
    {
     "name": "stdout",
     "output_type": "stream",
     "text": [
      "Linear model prediction: 4372 dollar. \n",
      "Random forest prediction: 4375 dollar.\n"
     ]
    }
   ],
   "source": [
    "#make predictions based on the first row of the test set using RF and LM\n",
    "lm_row_prd = lm.predict(np.array(X_test.iloc[0]).reshape(1,-1))\n",
    "rf_row_prd = rf.predict(np.array(X_test.iloc[0]).reshape(1,-1))\n",
    "\n",
    "#print result\n",
    "print(\"Linear model prediction:\", int(lm_row_prd), \"dollar. \\nRandom forest prediction:\", int(rf_row_prd), \"dollar.\")"
   ]
  },
  {
   "cell_type": "code",
   "execution_count": 214,
   "metadata": {},
   "outputs": [],
   "source": [
    "'''\n",
    "this section creates an image of one of the trees of a random forest regression\n",
    "keep the max_depth option in the instantiation of the RF-model low unless you want to wait forever\n",
    "'''\n",
    "\n",
    "# Import tools needed for visualization\n",
    "from sklearn.tree import export_graphviz\n",
    "import pydot\n",
    "\n",
    "#instantiate the Random Forest regressor\n",
    "rf = RandomForestRegressor(n_estimators = 1000, random_state = 42, max_depth=2)\n",
    "\n",
    "#fit the model to the training set\n",
    "rf.fit(X_train, y_train)\n",
    "\n",
    "# Pull out one tree from the forest\n",
    "tree = rf.estimators_[5]\n",
    "\n",
    "# Export the image to a dot file\n",
    "export_graphviz(tree, out_file = 'tree.dot', feature_names = X.columns, rounded = True, precision = 1)\n",
    "\n",
    "# Use dot file to create a graph\n",
    "(graph, ) = pydot.graph_from_dot_file('tree.dot')\n",
    "\n",
    "# Write graph to a png file\n",
    "graph.write_png('tree.png')"
   ]
  },
  {
   "cell_type": "code",
   "execution_count": 67,
   "metadata": {},
   "outputs": [
    {
     "data": {
      "image/png": "[encoded data removed]",
      "text/plain": [
       "<Figure size 432x288 with 1 Axes>"
      ]
     },
     "metadata": {
      "needs_background": "light"
     },
     "output_type": "display_data"
    }
   ],
   "source": [
    "price_x_percentile = []\n",
    "for x in range(100):\n",
    "    price_x_percentile.append(df[df['carat'] > np.percentile(df['carat'], x)]['price'].mean())\n",
    "\n",
    "plt.plot(price_x_percentile, color='red')\n",
    "plt.xlabel(\"carat percentile\")\n",
    "plt.ylabel('Average price ($)')\n",
    "plt.title('Average price per diamond carat percentile')\n",
    "plt.show()"
   ]
  },
  {
   "cell_type": "code",
   "execution_count": 120,
   "metadata": {},
   "outputs": [
    {
     "data": {
      "text/plain": [
       "2.01"
      ]
     },
     "execution_count": 120,
     "metadata": {},
     "output_type": "execute_result"
    }
   ],
   "source": [
    "np.percentile(df['carat'], 97)"
   ]
  },
  {
   "cell_type": "code",
   "execution_count": 121,
   "metadata": {},
   "outputs": [
    {
     "data": {
      "text/plain": [
       "0    8861.904876\n",
       "Name: coefficient, dtype: float64"
      ]
     },
     "execution_count": 121,
     "metadata": {},
     "output_type": "execute_result"
    }
   ],
   "source": [
    "(coefs[coefs['feature'] == 'carat']['coefficient'] - num_col_mean['carat']) / num_col_stdev['carat']"
   ]
  },
  {
   "cell_type": "code",
   "execution_count": 146,
   "metadata": {},
   "outputs": [],
   "source": []
  },
  {
   "cell_type": "code",
   "execution_count": null,
   "metadata": {},
   "outputs": [],
   "source": []
  }
 ],
 "metadata": {
  "kernelspec": {
   "display_name": "Python 3",
   "language": "python",
   "name": "python3"
  },
  "language_info": {
   "codemirror_mode": {
    "name": "ipython",
    "version": 3
   },
   "file_extension": ".py",
   "mimetype": "text/x-python",
   "name": "python",
   "nbconvert_exporter": "python",
   "pygments_lexer": "ipython3",
   "version": "3.7.7"
  }
 },
 "nbformat": 4,
 "nbformat_minor": 4
}
